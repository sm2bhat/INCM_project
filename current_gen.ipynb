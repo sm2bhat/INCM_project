{
 "cells": [
  {
   "cell_type": "code",
   "execution_count": 4,
   "metadata": {},
   "outputs": [],
   "source": [
    "import numpy as np"
   ]
  },
  {
   "cell_type": "markdown",
   "metadata": {},
   "source": [
    "## Poisson Input generation"
   ]
  },
  {
   "cell_type": "code",
   "execution_count": 5,
   "metadata": {},
   "outputs": [
    {
     "name": "stdout",
     "output_type": "stream",
     "text": [
      "[64. 70. 75. ... 73. 73. 73.]\n"
     ]
    }
   ],
   "source": [
    "# Set the Poisson distribution parameters\n",
    "lambda_parameter = 70  # Adjust this parameter based on your specific distribution\n",
    "\n",
    "# Generate random samples from the Poisson distribution\n",
    "sample_size = 620000//4  # Adjust the sample size as needed\n",
    "poisson_samples1 = np.random.poisson(lambda_parameter, size=sample_size).astype(float)\n",
    "poisson_samples2 = np.random.poisson(lambda_parameter, size=sample_size).astype(float)\n",
    "poisson_samples3 = np.random.poisson(lambda_parameter, size=sample_size).astype(float)\n",
    "# Print the sampled data\n",
    "# print(poisson_samples)\n",
    "np.savetxt('./input_files/poisson_samples_01'+ '.txt', poisson_samples1, fmt='%.6f')\n",
    "np.savetxt('./input_files/poisson_samples_02'+ '.txt', poisson_samples2, fmt='%.6f')\n",
    "np.savetxt('./input_files/poisson_samples_03'+ '.txt', poisson_samples3, fmt='%.6f')\n",
    "\n",
    "print(poisson_samples1)"
   ]
  },
  {
   "cell_type": "markdown",
   "metadata": {},
   "source": [
    "## Step Current"
   ]
  },
  {
   "cell_type": "code",
   "execution_count": 1,
   "metadata": {},
   "outputs": [
    {
     "name": "stdout",
     "output_type": "stream",
     "text": [
      "[0.  0.  0.  0.  0.  0.  0.  0.  0.  0.  0.  0.  0.  0.  0.  0.  0.  0.\n",
      " 0.  0.  2.5 2.5 2.5 2.5 2.5 2.5 2.5 2.5 2.5 2.5 2.5 2.5 2.5 2.5 2.5 2.5\n",
      " 2.5 2.5 2.5 2.5 2.5 2.5 2.5 2.5 2.5 2.5 2.5 2.5 2.5 2.5]\n"
     ]
    }
   ],
   "source": [
    "import numpy as np\n",
    "\n",
    "# Define the step current parameters\n",
    "amplitude = 2.5  # Amplitude of the step current\n",
    "duration = 10  # Duration of the step current in milliseconds\n",
    "sampling_rate = 1000  # Sampling rate in samples per second\n",
    "current = np.zeros(50)\n",
    "for i in range(20, 50):\n",
    "    current[i] = amplitude\n",
    "print(current)\n",
    "np.savetxt('./input_files/step_samples_01'+ '.txt', current, fmt='%.6f')\n"
   ]
  },
  {
   "cell_type": "markdown",
   "metadata": {},
   "source": [
    "## Zero Current\n"
   ]
  },
  {
   "cell_type": "code",
   "execution_count": 7,
   "metadata": {},
   "outputs": [
    {
     "name": "stdout",
     "output_type": "stream",
     "text": [
      "[0. 0. 0. 0. 0. 0. 0. 0. 0. 0. 0. 0. 0. 0. 0. 0. 0. 0. 0. 0. 0. 0. 0. 0.\n",
      " 0. 0. 0. 0. 0. 0. 0. 0. 0. 0. 0. 0. 0. 0. 0. 0. 0. 0. 0. 0. 0. 0. 0. 0.\n",
      " 0. 0.]\n"
     ]
    }
   ],
   "source": [
    "current = np.zeros(50)\n",
    "np.savetxt('./input_files/zero_samples_01'+ '.txt', current, fmt='%.6f')\n",
    "print(current)"
   ]
  }
 ],
 "metadata": {
  "kernelspec": {
   "display_name": "Python 3",
   "language": "python",
   "name": "python3"
  },
  "language_info": {
   "codemirror_mode": {
    "name": "ipython",
    "version": 3
   },
   "file_extension": ".py",
   "mimetype": "text/x-python",
   "name": "python",
   "nbconvert_exporter": "python",
   "pygments_lexer": "ipython3",
   "version": "3.12.0"
  }
 },
 "nbformat": 4,
 "nbformat_minor": 2
}
